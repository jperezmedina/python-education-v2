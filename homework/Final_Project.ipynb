{
 "cells": [
  {
   "cell_type": "markdown",
   "metadata": {},
   "source": [
    "### Final Project : Company Management System\n",
    "\n",
    "  - Determine the names and ages of employees, comany managers, and the languages they can speak.\n",
    "  - Write a program that will print the languajes that any of the employees can speak. In this project,\n",
    "    complete the project by creating two classes named employees and manager."
   ]
  },
  {
   "cell_type": "code",
   "execution_count": 96,
   "metadata": {},
   "outputs": [],
   "source": [
    "class Person:\n",
    "    def __init__(self, name, age, language):\n",
    "        self.name = name\n",
    "        self.age = age\n",
    "        self.language = set([language])\n",
    "     \n",
    "    def setLanguage(self, language):\n",
    "        self.language.add(language)\n",
    "        \n",
    "    def getName(self):\n",
    "        return self.name\n",
    "    \n",
    "    def getAge(self):\n",
    "        return self.age\n",
    "    \n",
    "    def getLanguage(self):\n",
    "        return self.language\n",
    "\n",
    "    def getPersonalInfo(self):\n",
    "        print(self.name + \" has \" + str(self.age) + \" years old.\")"
   ]
  },
  {
   "cell_type": "code",
   "execution_count": 97,
   "metadata": {},
   "outputs": [],
   "source": [
    "class Employee(Person):\n",
    "    def __init__(self, name, age, language):\n",
    "        super().__init__(name, age, language)\n",
    "    \n",
    "    def getRoleInfo(self):\n",
    "        self.getPersonalInfo()\n",
    "        print(self.getName() + \" is a good employee of the company.\")"
   ]
  },
  {
   "cell_type": "code",
   "execution_count": 130,
   "metadata": {},
   "outputs": [],
   "source": [
    "class Manager(Person):\n",
    "    def __init__(self, name, age, language):\n",
    "        super().__init__(name, age, language)\n",
    "        self.employees = set()\n",
    "    \n",
    "    def setEmployee(self, employee):\n",
    "        self.employees.add(employee)\n",
    "        \n",
    "    def getEmployees(self):\n",
    "        strEmployees = \"The employees list of \" + self.getName() + \" is: \"\n",
    "        for i in self.employees:\n",
    "            strEmployees += \" \" + i.getName() + \",\"\n",
    "        \n",
    "        return strEmployees[:-1]\n",
    "    \n",
    "    def getRoleInfo(self):\n",
    "        self.getPersonalInfo()\n",
    "        print(self.getName() + \" is a manager of the company.\")"
   ]
  },
  {
   "cell_type": "code",
   "execution_count": 136,
   "metadata": {},
   "outputs": [
    {
     "name": "stdout",
     "output_type": "stream",
     "text": [
      "Peter has 25 years old.\n",
      "Peter is a good employee of the company.\n"
     ]
    }
   ],
   "source": [
    "empl1 = Employee(\"Peter\", 25, \"French\")\n",
    "empl1.setLanguage(\"Italian\")\n",
    "empl1.getRoleInfo()\n",
    "\n",
    "empl2 = Employee(\"Mary\", 32, \"English\")"
   ]
  },
  {
   "cell_type": "code",
   "execution_count": 142,
   "metadata": {},
   "outputs": [
    {
     "name": "stdout",
     "output_type": "stream",
     "text": [
      "Joe has 40 years old.\n",
      "Joe is a manager of the company.\n"
     ]
    },
    {
     "data": {
      "text/plain": [
       "'The employees list of Joe is:  Mary, Peter'"
      ]
     },
     "execution_count": 142,
     "metadata": {},
     "output_type": "execute_result"
    }
   ],
   "source": [
    "mang1 = Manager(\"Joe\", 40, \"English\")\n",
    "mang1.setLanguage(\"Frech\")\n",
    "\n",
    "mang1.setEmployee(empl1)\n",
    "mang1.setEmployee(empl2)\n",
    "\n",
    "mang1.getRoleInfo()\n",
    "mang1.getEmployees()"
   ]
  },
  {
   "cell_type": "code",
   "execution_count": 141,
   "metadata": {},
   "outputs": [
    {
     "name": "stdout",
     "output_type": "stream",
     "text": [
      "Joe speaks English, Frech\n",
      "Peter speaks Italian, French\n",
      "Mary speaks English\n"
     ]
    }
   ],
   "source": [
    "company = []\n",
    "\n",
    "company.append(mang1)\n",
    "company.append(empl1)\n",
    "company.append(empl2)\n",
    "\n",
    "for i in company:\n",
    "    strMessage = i.getName() + \" speaks\"\n",
    "    for x in i.getLanguage():\n",
    "            strMessage += \" \" + x + \",\"\n",
    "            \n",
    "    print(strMessage[:-1])"
   ]
  },
  {
   "cell_type": "code",
   "execution_count": null,
   "metadata": {},
   "outputs": [],
   "source": []
  },
  {
   "cell_type": "code",
   "execution_count": null,
   "metadata": {},
   "outputs": [],
   "source": []
  }
 ],
 "metadata": {
  "kernelspec": {
   "display_name": "Python 3",
   "language": "python",
   "name": "python3"
  },
  "language_info": {
   "codemirror_mode": {
    "name": "ipython",
    "version": 3
   },
   "file_extension": ".py",
   "mimetype": "text/x-python",
   "name": "python",
   "nbconvert_exporter": "python",
   "pygments_lexer": "ipython3",
   "version": "3.8.5"
  }
 },
 "nbformat": 4,
 "nbformat_minor": 4
}
