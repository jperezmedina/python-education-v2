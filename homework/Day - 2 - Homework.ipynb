{
 "cells": [
  {
   "cell_type": "markdown",
   "metadata": {},
   "source": [
    "### Day - 2 : \n",
    "\n",
    "#### 1. Create a List and swap the second half of the list with the first half of the list and print this list on the screen"
   ]
  },
  {
   "cell_type": "code",
   "execution_count": 22,
   "metadata": {},
   "outputs": [
    {
     "name": "stdout",
     "output_type": "stream",
     "text": [
      "[12, 14, 16, 18, 20, 2, 4, 6, 8, 10]\n"
     ]
    }
   ],
   "source": [
    "myList = [2,4,6,8,10,12,14,16,18,20]\n",
    "\n",
    "temporalList = myList[len(myList) // 2:]\n",
    "temporalList += myList[0:len(myList) // 2]\n",
    "\n",
    "print(temporalList)\n"
   ]
  },
  {
   "cell_type": "markdown",
   "metadata": {},
   "source": [
    "#### 2. Ask the user to input a single interger to a variable 'n'. Then, print out all the even numbers from 0 to n (including n)\n",
    "\n",
    "#### Note: the example does not print the number when the value of 'n' is odd"
   ]
  },
  {
   "cell_type": "code",
   "execution_count": 25,
   "metadata": {},
   "outputs": [
    {
     "name": "stdout",
     "output_type": "stream",
     "text": [
      "Please, enter a number: 12\n",
      "0\n",
      "2\n",
      "4\n",
      "6\n",
      "8\n",
      "10\n",
      "12\n"
     ]
    }
   ],
   "source": [
    "number = int(input('Please, enter a number: '))\n",
    "\n",
    "iterm =[i for i in range(number + 1) if i % 2 == 0]\n",
    "for value in iterm:\n",
    "    print(value)"
   ]
  },
  {
   "cell_type": "code",
   "execution_count": null,
   "metadata": {},
   "outputs": [],
   "source": []
  }
 ],
 "metadata": {
  "kernelspec": {
   "display_name": "Python 3",
   "language": "python",
   "name": "python3"
  },
  "language_info": {
   "codemirror_mode": {
    "name": "ipython",
    "version": 3
   },
   "file_extension": ".py",
   "mimetype": "text/x-python",
   "name": "python",
   "nbconvert_exporter": "python",
   "pygments_lexer": "ipython3",
   "version": "3.8.5"
  }
 },
 "nbformat": 4,
 "nbformat_minor": 4
}
