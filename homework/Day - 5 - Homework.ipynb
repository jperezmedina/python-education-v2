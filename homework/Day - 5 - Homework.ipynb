{
 "cells": [
  {
   "cell_type": "markdown",
   "metadata": {},
   "source": [
    "### Day - 5 : \n",
    "\n",
    "  - 1. Create three classes named Animals, Dogs and Cats. Add some features to these classes.\n",
    "  - 2. Create some functions with these attributes. Don't forget! You have to do it using inheritance."
   ]
  },
  {
   "cell_type": "code",
   "execution_count": 34,
   "metadata": {},
   "outputs": [],
   "source": [
    "class Animal:\n",
    "    def __init__(self, name, age):\n",
    "        self.name = name\n",
    "        self.age = age\n",
    "    \n",
    "    def print_name(self):\n",
    "        print(self.name)\n",
    "    \n",
    "    def print_age(self):\n",
    "        print(self.name + \" has \" + str(self.age) + \" years old.\")"
   ]
  },
  {
   "cell_type": "code",
   "execution_count": 35,
   "metadata": {},
   "outputs": [],
   "source": [
    "class Dog(Animal):\n",
    "    def __init__(self, name, age, sound):\n",
    "        super().__init__(name, age)\n",
    "        self.sound = sound\n",
    "    \n",
    "    def print_dog_status(self):\n",
    "        print(self.name + \" has \" + str(self.age) + \" years old.\")\n",
    "    \n",
    "    def move(self):\n",
    "        print(\"The dog run!\")"
   ]
  },
  {
   "cell_type": "code",
   "execution_count": 36,
   "metadata": {},
   "outputs": [],
   "source": [
    "class Cat(Animal):\n",
    "    def __init__(self, name, age, sound):\n",
    "        super().__init__(name, age)\n",
    "        self.sound = sound\n",
    "    \n",
    "    def print_cat_status(self):\n",
    "        print(self.name + \" has \" + str(self.age) + \" years old.\")\n",
    "\n",
    "    def move(self):\n",
    "        print(\"The cat jump!\")"
   ]
  },
  {
   "cell_type": "code",
   "execution_count": 39,
   "metadata": {},
   "outputs": [],
   "source": [
    "def func(obj): \n",
    "    obj.print_name() \n",
    "    obj.print_age() \n",
    "    obj.move()"
   ]
  },
  {
   "cell_type": "code",
   "execution_count": 37,
   "metadata": {},
   "outputs": [
    {
     "name": "stdout",
     "output_type": "stream",
     "text": [
      "Buddy has 5 years old.\n",
      "The dog run!\n"
     ]
    }
   ],
   "source": [
    "myDog = Dog(\"Buddy\", 5, \"Woof\")\n",
    "myDog.print_dog_status()\n",
    "myDog.move()"
   ]
  },
  {
   "cell_type": "code",
   "execution_count": 38,
   "metadata": {},
   "outputs": [
    {
     "name": "stdout",
     "output_type": "stream",
     "text": [
      "Misty\n",
      "Misty has 2 years old.\n",
      "The cat jump!\n",
      "Misty has 2 years old.\n"
     ]
    }
   ],
   "source": [
    "myCat = Cat(\"Misty\", 2, \"Meow\")\n",
    "myCat.print_name()\n",
    "myCat.print_age()\n",
    "myCat.move()\n",
    "myCat.print_cat_status()"
   ]
  },
  {
   "cell_type": "code",
   "execution_count": 41,
   "metadata": {},
   "outputs": [
    {
     "name": "stdout",
     "output_type": "stream",
     "text": [
      "Buddy\n",
      "Buddy has 5 years old.\n",
      "The dog run!\n",
      "Misty\n",
      "Misty has 2 years old.\n",
      "The cat jump!\n"
     ]
    }
   ],
   "source": [
    "func(myDog) \n",
    "func(myCat) "
   ]
  },
  {
   "cell_type": "code",
   "execution_count": null,
   "metadata": {},
   "outputs": [],
   "source": []
  }
 ],
 "metadata": {
  "kernelspec": {
   "display_name": "Python 3",
   "language": "python",
   "name": "python3"
  },
  "language_info": {
   "codemirror_mode": {
    "name": "ipython",
    "version": 3
   },
   "file_extension": ".py",
   "mimetype": "text/x-python",
   "name": "python",
   "nbconvert_exporter": "python",
   "pygments_lexer": "ipython3",
   "version": "3.8.5"
  }
 },
 "nbformat": 4,
 "nbformat_minor": 4
}
