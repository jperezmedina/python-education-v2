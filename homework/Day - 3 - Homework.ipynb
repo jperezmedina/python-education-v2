{
 "cells": [
  {
   "cell_type": "markdown",
   "metadata": {},
   "source": [
    "### Day - 3 : \n",
    "\n",
    "#### 1. User login application:\n",
    "  - Get Usename and Password values from the user.\n",
    "  - Check the values in an if statement and tell the user if they were successful."
   ]
  },
  {
   "cell_type": "code",
   "execution_count": null,
   "metadata": {},
   "outputs": [],
   "source": [
    "data_username = \"jperezmedina\"\n",
    "data_password = \"abcd1234\"\n",
    "\n",
    "username = input(\"Please, enter your username: \")\n",
    "while True:\n",
    "    if username == data_username:\n",
    "        break\n",
    "    else:\n",
    "        username = input(\"Username not found, please try again: \")\n",
    "print(\"Welcome\", username + \"!\")\n",
    "\n",
    "password = input(\"Please, enter your password: \")\n",
    "while True:\n",
    "    if password == data_password:\n",
    "        break\n",
    "    else: \n",
    "        password = input(\"Password is incorrect, Please try again: \")\n",
    "\n",
    "print(\"Login successful!\")"
   ]
  },
  {
   "cell_type": "markdown",
   "metadata": {},
   "source": [
    "#### 2. Extra:\n",
    "  - Try building the same user login application but this time, use a dictionay!"
   ]
  },
  {
   "cell_type": "code",
   "execution_count": 7,
   "metadata": {},
   "outputs": [
    {
     "name": "stdout",
     "output_type": "stream",
     "text": [
      "Please, enter your username: j\n",
      "Username not found, please try again: jperezmedina22\n",
      "Welcome jperezmedina22!\n",
      "Please, enter your password: abc\n",
      "Password is incorrect, Please try again: abcd22\n",
      "Login successful!\n"
     ]
    }
   ],
   "source": [
    "dictUsers = {\"jperezmedina\":\"abcd\",\"jperezmedina22\":\"abcd22\",\"jperezmedina33\":\"abcd33\"}\n",
    "\n",
    "username = input(\"Please, enter your username: \")\n",
    "while True:\n",
    "    if username in dictUsers.keys():\n",
    "        break\n",
    "    else:\n",
    "        username = input(\"Username not found, please try again: \")\n",
    "print(\"Welcome\", username + \"!\")\n",
    "\n",
    "password = input(\"Please, enter your password: \")\n",
    "while True:\n",
    "    if password == dictUsers[username]:\n",
    "        break\n",
    "    else: \n",
    "        password = input(\"Password is incorrect, Please try again: \")\n",
    "\n",
    "print(\"Login successful!\")"
   ]
  },
  {
   "cell_type": "code",
   "execution_count": null,
   "metadata": {},
   "outputs": [],
   "source": []
  }
 ],
 "metadata": {
  "kernelspec": {
   "display_name": "Python 3",
   "language": "python",
   "name": "python3"
  },
  "language_info": {
   "codemirror_mode": {
    "name": "ipython",
    "version": 3
   },
   "file_extension": ".py",
   "mimetype": "text/x-python",
   "name": "python",
   "nbconvert_exporter": "python",
   "pygments_lexer": "ipython3",
   "version": "3.8.5"
  }
 },
 "nbformat": 4,
 "nbformat_minor": 4
}
